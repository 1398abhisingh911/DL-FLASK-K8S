{
 "cells": [
  {
   "cell_type": "code",
   "execution_count": 1,
   "metadata": {},
   "outputs": [],
   "source": [
    "import pandas as pd"
   ]
  },
  {
   "cell_type": "code",
   "execution_count": 16,
   "metadata": {},
   "outputs": [],
   "source": [
    "dataset=pd.read_csv('Desktop\\pima-indians-diabetes.csv',header=None)"
   ]
  },
  {
   "cell_type": "code",
   "execution_count": 17,
   "metadata": {},
   "outputs": [
    {
     "data": {
      "text/plain": [
       "<bound method DataFrame.info of       0    1   2   3    4     5      6   7  8\n",
       "0     6  148  72  35    0  33.6  0.627  50  1\n",
       "1     1   85  66  29    0  26.6  0.351  31  0\n",
       "2     8  183  64   0    0  23.3  0.672  32  1\n",
       "3     1   89  66  23   94  28.1  0.167  21  0\n",
       "4     0  137  40  35  168  43.1  2.288  33  1\n",
       "..   ..  ...  ..  ..  ...   ...    ...  .. ..\n",
       "763  10  101  76  48  180  32.9  0.171  63  0\n",
       "764   2  122  70  27    0  36.8  0.340  27  0\n",
       "765   5  121  72  23  112  26.2  0.245  30  0\n",
       "766   1  126  60   0    0  30.1  0.349  47  1\n",
       "767   1   93  70  31    0  30.4  0.315  23  0\n",
       "\n",
       "[768 rows x 9 columns]>"
      ]
     },
     "execution_count": 17,
     "metadata": {},
     "output_type": "execute_result"
    }
   ],
   "source": [
    "dataset.info"
   ]
  },
  {
   "cell_type": "code",
   "execution_count": 18,
   "metadata": {},
   "outputs": [
    {
     "data": {
      "text/html": [
       "<div>\n",
       "<style scoped>\n",
       "    .dataframe tbody tr th:only-of-type {\n",
       "        vertical-align: middle;\n",
       "    }\n",
       "\n",
       "    .dataframe tbody tr th {\n",
       "        vertical-align: top;\n",
       "    }\n",
       "\n",
       "    .dataframe thead th {\n",
       "        text-align: right;\n",
       "    }\n",
       "</style>\n",
       "<table border=\"1\" class=\"dataframe\">\n",
       "  <thead>\n",
       "    <tr style=\"text-align: right;\">\n",
       "      <th></th>\n",
       "      <th>0</th>\n",
       "      <th>1</th>\n",
       "      <th>2</th>\n",
       "      <th>3</th>\n",
       "      <th>4</th>\n",
       "      <th>5</th>\n",
       "      <th>6</th>\n",
       "      <th>7</th>\n",
       "      <th>8</th>\n",
       "    </tr>\n",
       "  </thead>\n",
       "  <tbody>\n",
       "    <tr>\n",
       "      <th>0</th>\n",
       "      <td>6</td>\n",
       "      <td>148</td>\n",
       "      <td>72</td>\n",
       "      <td>35</td>\n",
       "      <td>0</td>\n",
       "      <td>33.6</td>\n",
       "      <td>0.627</td>\n",
       "      <td>50</td>\n",
       "      <td>1</td>\n",
       "    </tr>\n",
       "    <tr>\n",
       "      <th>1</th>\n",
       "      <td>1</td>\n",
       "      <td>85</td>\n",
       "      <td>66</td>\n",
       "      <td>29</td>\n",
       "      <td>0</td>\n",
       "      <td>26.6</td>\n",
       "      <td>0.351</td>\n",
       "      <td>31</td>\n",
       "      <td>0</td>\n",
       "    </tr>\n",
       "  </tbody>\n",
       "</table>\n",
       "</div>"
      ],
      "text/plain": [
       "   0    1   2   3  4     5      6   7  8\n",
       "0  6  148  72  35  0  33.6  0.627  50  1\n",
       "1  1   85  66  29  0  26.6  0.351  31  0"
      ]
     },
     "execution_count": 18,
     "metadata": {},
     "output_type": "execute_result"
    }
   ],
   "source": [
    "dataset.head(2)"
   ]
  },
  {
   "cell_type": "code",
   "execution_count": 19,
   "metadata": {},
   "outputs": [],
   "source": [
    "y=dataset[8]"
   ]
  },
  {
   "cell_type": "code",
   "execution_count": 20,
   "metadata": {},
   "outputs": [],
   "source": [
    "X=dataset[[0,1,2,3,4,5,6,7]]"
   ]
  },
  {
   "cell_type": "code",
   "execution_count": 22,
   "metadata": {},
   "outputs": [],
   "source": [
    "from keras.models import Sequential"
   ]
  },
  {
   "cell_type": "code",
   "execution_count": 23,
   "metadata": {},
   "outputs": [],
   "source": [
    "from keras.layers import Dense"
   ]
  },
  {
   "cell_type": "code",
   "execution_count": 24,
   "metadata": {},
   "outputs": [],
   "source": [
    "from keras.optimizers import Adam"
   ]
  },
  {
   "cell_type": "code",
   "execution_count": 25,
   "metadata": {},
   "outputs": [],
   "source": [
    "model=Sequential()"
   ]
  },
  {
   "cell_type": "code",
   "execution_count": 34,
   "metadata": {},
   "outputs": [],
   "source": [
    "model.add(Dense(units=12, input_dim=8,activation='relu'))"
   ]
  },
  {
   "cell_type": "code",
   "execution_count": 35,
   "metadata": {},
   "outputs": [],
   "source": [
    "model.add(Dense(units=8,activation='relu'))"
   ]
  },
  {
   "cell_type": "code",
   "execution_count": 36,
   "metadata": {},
   "outputs": [],
   "source": [
    "model.add(Dense(units=1,activation='sigmoid'))"
   ]
  },
  {
   "cell_type": "markdown",
   "metadata": {},
   "source": [
    "model.summary()"
   ]
  },
  {
   "cell_type": "code",
   "execution_count": 37,
   "metadata": {},
   "outputs": [
    {
     "name": "stdout",
     "output_type": "stream",
     "text": [
      "Model: \"sequential\"\n",
      "_________________________________________________________________\n",
      "Layer (type)                 Output Shape              Param #   \n",
      "=================================================================\n",
      "dense (Dense)                (None, 12)                108       \n",
      "_________________________________________________________________\n",
      "dense_1 (Dense)              (None, 8)                 104       \n",
      "_________________________________________________________________\n",
      "dense_3 (Dense)              (None, 1)                 9         \n",
      "_________________________________________________________________\n",
      "dense_4 (Dense)              (None, 12)                24        \n",
      "_________________________________________________________________\n",
      "dense_5 (Dense)              (None, 8)                 104       \n",
      "_________________________________________________________________\n",
      "dense_6 (Dense)              (None, 1)                 9         \n",
      "=================================================================\n",
      "Total params: 358\n",
      "Trainable params: 358\n",
      "Non-trainable params: 0\n",
      "_________________________________________________________________\n"
     ]
    }
   ],
   "source": [
    "model.summary()"
   ]
  },
  {
   "cell_type": "code",
   "execution_count": 38,
   "metadata": {},
   "outputs": [],
   "source": [
    "model.compile(loss='binary_crossentropy',optimizer=Adam(learning_rate=0.00001),metrics=['Accuracy'])"
   ]
  },
  {
   "cell_type": "markdown",
   "metadata": {},
   "source": [
    "model.fit(X,y,epochs=150)"
   ]
  },
  {
   "cell_type": "code",
   "execution_count": 39,
   "metadata": {},
   "outputs": [
    {
     "name": "stdout",
     "output_type": "stream",
     "text": [
      "Epoch 1/150\n",
      "24/24 [==============================] - 0s 2ms/step - loss: 0.6931 - accuracy: 0.0000e+00\n",
      "Epoch 2/150\n",
      "24/24 [==============================] - 0s 2ms/step - loss: 0.6929 - accuracy: 0.0000e+00\n",
      "Epoch 3/150\n",
      "24/24 [==============================] - 0s 2ms/step - loss: 0.6927 - accuracy: 0.0000e+00\n",
      "Epoch 4/150\n",
      "24/24 [==============================] - 0s 2ms/step - loss: 0.6925 - accuracy: 0.0000e+00\n",
      "Epoch 5/150\n",
      "24/24 [==============================] - 0s 2ms/step - loss: 0.6922 - accuracy: 0.0000e+00\n",
      "Epoch 6/150\n",
      "24/24 [==============================] - 0s 2ms/step - loss: 0.6920 - accuracy: 0.0000e+00\n",
      "Epoch 7/150\n",
      "24/24 [==============================] - 0s 2ms/step - loss: 0.6917 - accuracy: 0.0000e+00\n",
      "Epoch 8/150\n",
      "24/24 [==============================] - 0s 2ms/step - loss: 0.6915 - accuracy: 0.0000e+00\n",
      "Epoch 9/150\n",
      "24/24 [==============================] - 0s 2ms/step - loss: 0.6912 - accuracy: 0.0000e+00\n",
      "Epoch 10/150\n",
      "24/24 [==============================] - 0s 2ms/step - loss: 0.6908 - accuracy: 0.0000e+00\n",
      "Epoch 11/150\n",
      "24/24 [==============================] - 0s 2ms/step - loss: 0.6905 - accuracy: 0.0000e+00\n",
      "Epoch 12/150\n",
      "24/24 [==============================] - 0s 2ms/step - loss: 0.6902 - accuracy: 0.0000e+00\n",
      "Epoch 13/150\n",
      "24/24 [==============================] - 0s 2ms/step - loss: 0.6898 - accuracy: 0.0000e+00\n",
      "Epoch 14/150\n",
      "24/24 [==============================] - 0s 2ms/step - loss: 0.6894 - accuracy: 0.0000e+00\n",
      "Epoch 15/150\n",
      "24/24 [==============================] - 0s 2ms/step - loss: 0.6890 - accuracy: 0.0000e+00\n",
      "Epoch 16/150\n",
      "24/24 [==============================] - 0s 2ms/step - loss: 0.6886 - accuracy: 0.0000e+00\n",
      "Epoch 17/150\n",
      "24/24 [==============================] - 0s 2ms/step - loss: 0.6881 - accuracy: 0.0000e+00\n",
      "Epoch 18/150\n",
      "24/24 [==============================] - 0s 2ms/step - loss: 0.6877 - accuracy: 0.0000e+00\n",
      "Epoch 19/150\n",
      "24/24 [==============================] - 0s 2ms/step - loss: 0.6872 - accuracy: 0.0000e+00\n",
      "Epoch 20/150\n",
      "24/24 [==============================] - 0s 2ms/step - loss: 0.6868 - accuracy: 0.0000e+00\n",
      "Epoch 21/150\n",
      "24/24 [==============================] - 0s 3ms/step - loss: 0.6863 - accuracy: 0.0000e+00\n",
      "Epoch 22/150\n",
      "24/24 [==============================] - 0s 3ms/step - loss: 0.6858 - accuracy: 0.0000e+00\n",
      "Epoch 23/150\n",
      "24/24 [==============================] - 0s 3ms/step - loss: 0.6853 - accuracy: 0.0000e+00\n",
      "Epoch 24/150\n",
      "24/24 [==============================] - 0s 3ms/step - loss: 0.6848 - accuracy: 0.0000e+00\n",
      "Epoch 25/150\n",
      "24/24 [==============================] - 0s 3ms/step - loss: 0.6844 - accuracy: 0.0000e+00\n",
      "Epoch 26/150\n",
      "24/24 [==============================] - 0s 2ms/step - loss: 0.6839 - accuracy: 0.0000e+00\n",
      "Epoch 27/150\n",
      "24/24 [==============================] - 0s 2ms/step - loss: 0.6834 - accuracy: 0.0000e+00\n",
      "Epoch 28/150\n",
      "24/24 [==============================] - 0s 2ms/step - loss: 0.6829 - accuracy: 0.0000e+00\n",
      "Epoch 29/150\n",
      "24/24 [==============================] - 0s 3ms/step - loss: 0.6825 - accuracy: 0.0000e+00\n",
      "Epoch 30/150\n",
      "24/24 [==============================] - 0s 4ms/step - loss: 0.6820 - accuracy: 0.0000e+00\n",
      "Epoch 31/150\n",
      "24/24 [==============================] - 0s 3ms/step - loss: 0.6815 - accuracy: 0.0000e+00\n",
      "Epoch 32/150\n",
      "24/24 [==============================] - 0s 2ms/step - loss: 0.6811 - accuracy: 0.0000e+00\n",
      "Epoch 33/150\n",
      "24/24 [==============================] - 0s 2ms/step - loss: 0.6806 - accuracy: 0.0000e+00\n",
      "Epoch 34/150\n",
      "24/24 [==============================] - 0s 2ms/step - loss: 0.6802 - accuracy: 0.0000e+00\n",
      "Epoch 35/150\n",
      "24/24 [==============================] - 0s 2ms/step - loss: 0.6797 - accuracy: 0.0000e+00\n",
      "Epoch 36/150\n",
      "24/24 [==============================] - 0s 2ms/step - loss: 0.6793 - accuracy: 0.0000e+00\n",
      "Epoch 37/150\n",
      "24/24 [==============================] - 0s 2ms/step - loss: 0.6789 - accuracy: 0.0000e+00\n",
      "Epoch 38/150\n",
      "24/24 [==============================] - 0s 2ms/step - loss: 0.6785 - accuracy: 0.0000e+00\n",
      "Epoch 39/150\n",
      "24/24 [==============================] - 0s 2ms/step - loss: 0.6781 - accuracy: 0.0000e+00\n",
      "Epoch 40/150\n",
      "24/24 [==============================] - 0s 2ms/step - loss: 0.6777 - accuracy: 0.0000e+00\n",
      "Epoch 41/150\n",
      "24/24 [==============================] - 0s 2ms/step - loss: 0.6773 - accuracy: 0.0000e+00\n",
      "Epoch 42/150\n",
      "24/24 [==============================] - 0s 2ms/step - loss: 0.6769 - accuracy: 0.0000e+00\n",
      "Epoch 43/150\n",
      "24/24 [==============================] - 0s 2ms/step - loss: 0.6765 - accuracy: 0.0000e+00\n",
      "Epoch 44/150\n",
      "24/24 [==============================] - 0s 2ms/step - loss: 0.6761 - accuracy: 0.0000e+00\n",
      "Epoch 45/150\n",
      "24/24 [==============================] - 0s 2ms/step - loss: 0.6757 - accuracy: 0.0000e+00\n",
      "Epoch 46/150\n",
      "24/24 [==============================] - 0s 2ms/step - loss: 0.6754 - accuracy: 0.0000e+00\n",
      "Epoch 47/150\n",
      "24/24 [==============================] - 0s 2ms/step - loss: 0.6750 - accuracy: 0.0000e+00\n",
      "Epoch 48/150\n",
      "24/24 [==============================] - 0s 2ms/step - loss: 0.6747 - accuracy: 0.0000e+00\n",
      "Epoch 49/150\n",
      "24/24 [==============================] - 0s 2ms/step - loss: 0.6743 - accuracy: 0.0000e+00\n",
      "Epoch 50/150\n",
      "24/24 [==============================] - 0s 2ms/step - loss: 0.6740 - accuracy: 0.0000e+00\n",
      "Epoch 51/150\n",
      "24/24 [==============================] - 0s 2ms/step - loss: 0.6736 - accuracy: 0.0000e+00\n",
      "Epoch 52/150\n",
      "24/24 [==============================] - 0s 2ms/step - loss: 0.6733 - accuracy: 0.0000e+00\n",
      "Epoch 53/150\n",
      "24/24 [==============================] - 0s 2ms/step - loss: 0.6730 - accuracy: 0.0000e+00\n",
      "Epoch 54/150\n",
      "24/24 [==============================] - 0s 2ms/step - loss: 0.6726 - accuracy: 0.0000e+00\n",
      "Epoch 55/150\n",
      "24/24 [==============================] - 0s 3ms/step - loss: 0.6723 - accuracy: 0.0000e+00\n",
      "Epoch 56/150\n",
      "24/24 [==============================] - 0s 2ms/step - loss: 0.6720 - accuracy: 0.0000e+00\n",
      "Epoch 57/150\n",
      "24/24 [==============================] - 0s 2ms/step - loss: 0.6717 - accuracy: 0.0000e+00\n",
      "Epoch 58/150\n",
      "24/24 [==============================] - 0s 2ms/step - loss: 0.6714 - accuracy: 0.0000e+00\n",
      "Epoch 59/150\n",
      "24/24 [==============================] - 0s 2ms/step - loss: 0.6711 - accuracy: 0.0000e+00\n",
      "Epoch 60/150\n",
      "24/24 [==============================] - 0s 2ms/step - loss: 0.6708 - accuracy: 0.0000e+00\n",
      "Epoch 61/150\n",
      "24/24 [==============================] - 0s 2ms/step - loss: 0.6705 - accuracy: 0.0000e+00\n",
      "Epoch 62/150\n",
      "24/24 [==============================] - 0s 2ms/step - loss: 0.6702 - accuracy: 0.0000e+00\n",
      "Epoch 63/150\n",
      "24/24 [==============================] - 0s 2ms/step - loss: 0.6699 - accuracy: 0.0000e+00\n",
      "Epoch 64/150\n",
      "24/24 [==============================] - 0s 2ms/step - loss: 0.6696 - accuracy: 0.0000e+00\n",
      "Epoch 65/150\n",
      "24/24 [==============================] - 0s 2ms/step - loss: 0.6694 - accuracy: 0.0000e+00\n",
      "Epoch 66/150\n",
      "24/24 [==============================] - 0s 2ms/step - loss: 0.6691 - accuracy: 0.0000e+00\n",
      "Epoch 67/150\n",
      "24/24 [==============================] - 0s 2ms/step - loss: 0.6688 - accuracy: 0.0000e+00\n",
      "Epoch 68/150\n",
      "24/24 [==============================] - 0s 3ms/step - loss: 0.6685 - accuracy: 0.0000e+00\n",
      "Epoch 69/150\n",
      "24/24 [==============================] - 0s 3ms/step - loss: 0.6683 - accuracy: 0.0000e+00\n",
      "Epoch 70/150\n",
      "24/24 [==============================] - 0s 3ms/step - loss: 0.6680 - accuracy: 0.0000e+00\n",
      "Epoch 71/150\n",
      "24/24 [==============================] - 0s 3ms/step - loss: 0.6677 - accuracy: 0.0000e+00\n",
      "Epoch 72/150\n",
      "24/24 [==============================] - 0s 3ms/step - loss: 0.6675 - accuracy: 0.0000e+00\n",
      "Epoch 73/150\n",
      "24/24 [==============================] - 0s 3ms/step - loss: 0.6672 - accuracy: 0.0000e+00\n",
      "Epoch 74/150\n",
      "24/24 [==============================] - 0s 3ms/step - loss: 0.6670 - accuracy: 0.0000e+00\n",
      "Epoch 75/150\n",
      "24/24 [==============================] - 0s 2ms/step - loss: 0.6667 - accuracy: 0.0000e+00\n",
      "Epoch 76/150\n",
      "24/24 [==============================] - 0s 2ms/step - loss: 0.6665 - accuracy: 0.0000e+00\n",
      "Epoch 77/150\n",
      "24/24 [==============================] - 0s 2ms/step - loss: 0.6662 - accuracy: 0.0000e+00\n",
      "Epoch 78/150\n",
      "24/24 [==============================] - 0s 2ms/step - loss: 0.6660 - accuracy: 0.0000e+00\n",
      "Epoch 79/150\n"
     ]
    },
    {
     "name": "stdout",
     "output_type": "stream",
     "text": [
      "24/24 [==============================] - 0s 3ms/step - loss: 0.6658 - accuracy: 0.0000e+00\n",
      "Epoch 80/150\n",
      "24/24 [==============================] - 0s 3ms/step - loss: 0.6655 - accuracy: 0.0000e+00\n",
      "Epoch 81/150\n",
      "24/24 [==============================] - 0s 2ms/step - loss: 0.6653 - accuracy: 0.0000e+00\n",
      "Epoch 82/150\n",
      "24/24 [==============================] - 0s 2ms/step - loss: 0.6651 - accuracy: 0.0000e+00\n",
      "Epoch 83/150\n",
      "24/24 [==============================] - 0s 2ms/step - loss: 0.6649 - accuracy: 0.0000e+00\n",
      "Epoch 84/150\n",
      "24/24 [==============================] - 0s 2ms/step - loss: 0.6646 - accuracy: 0.0000e+00\n",
      "Epoch 85/150\n",
      "24/24 [==============================] - 0s 2ms/step - loss: 0.6644 - accuracy: 0.0000e+00\n",
      "Epoch 86/150\n",
      "24/24 [==============================] - 0s 2ms/step - loss: 0.6642 - accuracy: 0.0000e+00\n",
      "Epoch 87/150\n",
      "24/24 [==============================] - 0s 2ms/step - loss: 0.6640 - accuracy: 0.0000e+00\n",
      "Epoch 88/150\n",
      "24/24 [==============================] - 0s 2ms/step - loss: 0.6638 - accuracy: 0.0000e+00\n",
      "Epoch 89/150\n",
      "24/24 [==============================] - 0s 2ms/step - loss: 0.6636 - accuracy: 0.0000e+00\n",
      "Epoch 90/150\n",
      "24/24 [==============================] - 0s 2ms/step - loss: 0.6633 - accuracy: 0.0000e+00\n",
      "Epoch 91/150\n",
      "24/24 [==============================] - 0s 2ms/step - loss: 0.6631 - accuracy: 0.0000e+00\n",
      "Epoch 92/150\n",
      "24/24 [==============================] - 0s 2ms/step - loss: 0.6629 - accuracy: 0.0000e+00\n",
      "Epoch 93/150\n",
      "24/24 [==============================] - 0s 2ms/step - loss: 0.6627 - accuracy: 0.0000e+00\n",
      "Epoch 94/150\n",
      "24/24 [==============================] - 0s 2ms/step - loss: 0.6625 - accuracy: 0.0000e+00\n",
      "Epoch 95/150\n",
      "24/24 [==============================] - 0s 2ms/step - loss: 0.6623 - accuracy: 0.0000e+00\n",
      "Epoch 96/150\n",
      "24/24 [==============================] - 0s 2ms/step - loss: 0.6621 - accuracy: 0.0000e+00\n",
      "Epoch 97/150\n",
      "24/24 [==============================] - 0s 2ms/step - loss: 0.6619 - accuracy: 0.0000e+00\n",
      "Epoch 98/150\n",
      "24/24 [==============================] - 0s 2ms/step - loss: 0.6618 - accuracy: 0.0000e+00\n",
      "Epoch 99/150\n",
      "24/24 [==============================] - 0s 2ms/step - loss: 0.6616 - accuracy: 0.0000e+00\n",
      "Epoch 100/150\n",
      "24/24 [==============================] - 0s 2ms/step - loss: 0.6614 - accuracy: 0.0000e+00\n",
      "Epoch 101/150\n",
      "24/24 [==============================] - 0s 2ms/step - loss: 0.6612 - accuracy: 0.0000e+00\n",
      "Epoch 102/150\n",
      "24/24 [==============================] - 0s 2ms/step - loss: 0.6610 - accuracy: 0.0000e+00\n",
      "Epoch 103/150\n",
      "24/24 [==============================] - 0s 2ms/step - loss: 0.6608 - accuracy: 0.0000e+00\n",
      "Epoch 104/150\n",
      "24/24 [==============================] - 0s 2ms/step - loss: 0.6607 - accuracy: 0.0000e+00\n",
      "Epoch 105/150\n",
      "24/24 [==============================] - 0s 2ms/step - loss: 0.6605 - accuracy: 0.0000e+00\n",
      "Epoch 106/150\n",
      "24/24 [==============================] - 0s 2ms/step - loss: 0.6603 - accuracy: 0.0000e+00\n",
      "Epoch 107/150\n",
      "24/24 [==============================] - 0s 2ms/step - loss: 0.6601 - accuracy: 0.0000e+00\n",
      "Epoch 108/150\n",
      "24/24 [==============================] - 0s 2ms/step - loss: 0.6600 - accuracy: 0.0000e+00\n",
      "Epoch 109/150\n",
      "24/24 [==============================] - 0s 3ms/step - loss: 0.6598 - accuracy: 0.0000e+00\n",
      "Epoch 110/150\n",
      "24/24 [==============================] - 0s 2ms/step - loss: 0.6596 - accuracy: 0.0000e+00\n",
      "Epoch 111/150\n",
      "24/24 [==============================] - 0s 2ms/step - loss: 0.6595 - accuracy: 0.0000e+00\n",
      "Epoch 112/150\n",
      "24/24 [==============================] - 0s 2ms/step - loss: 0.6593 - accuracy: 0.0000e+00\n",
      "Epoch 113/150\n",
      "24/24 [==============================] - 0s 2ms/step - loss: 0.6591 - accuracy: 0.0000e+00\n",
      "Epoch 114/150\n",
      "24/24 [==============================] - 0s 2ms/step - loss: 0.6590 - accuracy: 0.0000e+00\n",
      "Epoch 115/150\n",
      "24/24 [==============================] - 0s 3ms/step - loss: 0.6588 - accuracy: 0.0000e+00\n",
      "Epoch 116/150\n",
      "24/24 [==============================] - 0s 2ms/step - loss: 0.6587 - accuracy: 0.0000e+00\n",
      "Epoch 117/150\n",
      "24/24 [==============================] - 0s 2ms/step - loss: 0.6585 - accuracy: 0.0000e+00\n",
      "Epoch 118/150\n",
      "24/24 [==============================] - 0s 2ms/step - loss: 0.6584 - accuracy: 0.0000e+00\n",
      "Epoch 119/150\n",
      "24/24 [==============================] - 0s 3ms/step - loss: 0.6582 - accuracy: 0.0000e+00\n",
      "Epoch 120/150\n",
      "24/24 [==============================] - 0s 2ms/step - loss: 0.6581 - accuracy: 0.0000e+00\n",
      "Epoch 121/150\n",
      "24/24 [==============================] - 0s 3ms/step - loss: 0.6579 - accuracy: 0.0000e+00\n",
      "Epoch 122/150\n",
      "24/24 [==============================] - 0s 3ms/step - loss: 0.6578 - accuracy: 0.0000e+00\n",
      "Epoch 123/150\n",
      "24/24 [==============================] - 0s 2ms/step - loss: 0.6576 - accuracy: 0.0000e+00\n",
      "Epoch 124/150\n",
      "24/24 [==============================] - 0s 2ms/step - loss: 0.6575 - accuracy: 0.0000e+00\n",
      "Epoch 125/150\n",
      "24/24 [==============================] - 0s 2ms/step - loss: 0.6573 - accuracy: 0.0000e+00\n",
      "Epoch 126/150\n",
      "24/24 [==============================] - 0s 2ms/step - loss: 0.6572 - accuracy: 0.0000e+00\n",
      "Epoch 127/150\n",
      "24/24 [==============================] - 0s 2ms/step - loss: 0.6571 - accuracy: 0.0000e+00\n",
      "Epoch 128/150\n",
      "24/24 [==============================] - 0s 3ms/step - loss: 0.6569 - accuracy: 0.0000e+00\n",
      "Epoch 129/150\n",
      "24/24 [==============================] - 0s 2ms/step - loss: 0.6568 - accuracy: 0.0000e+00\n",
      "Epoch 130/150\n",
      "24/24 [==============================] - 0s 3ms/step - loss: 0.6567 - accuracy: 0.0000e+00\n",
      "Epoch 131/150\n",
      "24/24 [==============================] - 0s 2ms/step - loss: 0.6565 - accuracy: 0.0000e+00\n",
      "Epoch 132/150\n",
      "24/24 [==============================] - 0s 3ms/step - loss: 0.6564 - accuracy: 0.0000e+00\n",
      "Epoch 133/150\n",
      "24/24 [==============================] - 0s 3ms/step - loss: 0.6563 - accuracy: 0.0000e+00\n",
      "Epoch 134/150\n",
      "24/24 [==============================] - 0s 3ms/step - loss: 0.6561 - accuracy: 0.0000e+00\n",
      "Epoch 135/150\n",
      "24/24 [==============================] - 0s 3ms/step - loss: 0.6560 - accuracy: 0.0000e+00\n",
      "Epoch 136/150\n",
      "24/24 [==============================] - 0s 3ms/step - loss: 0.6559 - accuracy: 0.0000e+00\n",
      "Epoch 137/150\n",
      "24/24 [==============================] - 0s 3ms/step - loss: 0.6558 - accuracy: 0.0000e+00\n",
      "Epoch 138/150\n",
      "24/24 [==============================] - 0s 2ms/step - loss: 0.6557 - accuracy: 0.0000e+00\n",
      "Epoch 139/150\n",
      "24/24 [==============================] - 0s 2ms/step - loss: 0.6555 - accuracy: 0.0000e+00\n",
      "Epoch 140/150\n",
      "24/24 [==============================] - 0s 2ms/step - loss: 0.6554 - accuracy: 0.0000e+00\n",
      "Epoch 141/150\n",
      "24/24 [==============================] - 0s 2ms/step - loss: 0.6553 - accuracy: 0.0000e+00\n",
      "Epoch 142/150\n",
      "24/24 [==============================] - 0s 3ms/step - loss: 0.6552 - accuracy: 0.0000e+00\n",
      "Epoch 143/150\n",
      "24/24 [==============================] - 0s 2ms/step - loss: 0.6551 - accuracy: 0.0000e+00\n",
      "Epoch 144/150\n",
      "24/24 [==============================] - 0s 2ms/step - loss: 0.6550 - accuracy: 0.0000e+00\n",
      "Epoch 145/150\n",
      "24/24 [==============================] - 0s 2ms/step - loss: 0.6548 - accuracy: 0.0000e+00\n",
      "Epoch 146/150\n",
      "24/24 [==============================] - 0s 2ms/step - loss: 0.6547 - accuracy: 0.0000e+00\n",
      "Epoch 147/150\n",
      "24/24 [==============================] - 0s 2ms/step - loss: 0.6546 - accuracy: 0.0000e+00\n",
      "Epoch 148/150\n",
      "24/24 [==============================] - 0s 2ms/step - loss: 0.6545 - accuracy: 0.0000e+00\n",
      "Epoch 149/150\n",
      "24/24 [==============================] - 0s 2ms/step - loss: 0.6544 - accuracy: 0.0000e+00\n",
      "Epoch 150/150\n",
      "24/24 [==============================] - 0s 2ms/step - loss: 0.6543 - accuracy: 0.0000e+00\n"
     ]
    },
    {
     "data": {
      "text/plain": [
       "<tensorflow.python.keras.callbacks.History at 0x2472e9b2ac0>"
      ]
     },
     "execution_count": 39,
     "metadata": {},
     "output_type": "execute_result"
    }
   ],
   "source": [
    "model.fit(X,y,epochs=150)"
   ]
  },
  {
   "cell_type": "code",
   "execution_count": 40,
   "metadata": {},
   "outputs": [],
   "source": [
    "model.save('Desktop\\dia_model.h5')"
   ]
  },
  {
   "cell_type": "code",
   "execution_count": null,
   "metadata": {},
   "outputs": [],
   "source": []
  }
 ],
 "metadata": {
  "kernelspec": {
   "display_name": "Python 3",
   "language": "python",
   "name": "python3"
  },
  "language_info": {
   "codemirror_mode": {
    "name": "ipython",
    "version": 3
   },
   "file_extension": ".py",
   "mimetype": "text/x-python",
   "name": "python",
   "nbconvert_exporter": "python",
   "pygments_lexer": "ipython3",
   "version": "3.8.5"
  }
 },
 "nbformat": 4,
 "nbformat_minor": 4
}
